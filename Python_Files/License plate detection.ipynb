{
 "cells": [
  {
   "cell_type": "code",
   "execution_count": 1,
   "metadata": {},
   "outputs": [],
   "source": [
    "import cv2\n",
    "import numpy as np"
   ]
  },
  {
   "cell_type": "code",
   "execution_count": 4,
   "metadata": {},
   "outputs": [],
   "source": [
    "img = cv2.imread('bike_with_licence_plate.jpg')\n",
    "resized = cv2.resize(img,(int(img.shape[0]/2),int(img.shape[1]/2)),interpolation = cv2.INTER_AREA)\n",
    "grey = cv2.cvtColor(resized,cv2.COLOR_BGR2GRAY)\n",
    "thresh = cv2.adaptiveThreshold(grey,255,cv2.ADAPTIVE_THRESH_MEAN_C,cv2.THRESH_BINARY,11,2) \n",
    "contours, hierarchy = cv2.findContours(thresh, cv2.RETR_TREE, cv2.CHAIN_APPROX_NONE)\n",
    "font = cv2.FONT_HERSHEY_COMPLEX \n",
    "for c in contours:\n",
    "    if 1000 < cv2.contourArea(c) < 10000:\n",
    "        approx = cv2.approxPolyDP(c,0.02*cv2.arcLength(c,True),True)\n",
    "        if len(approx) == 4 :\n",
    "            x = approx.ravel()[0]\n",
    "            y = approx.ravel()[1]\n",
    "            cv2.putText(resized,\"rectangle\",(x,y),font,1,(0))\n",
    "            cv2.drawContours(resized,[approx],-1,(0),3)\n",
    "cv2.imshow('thresh',thresh)\n",
    "cv2.imshow('resized',resized)\n",
    "cv2.waitKey()\n",
    "cv2.destroyAllWindows()"
   ]
  },
  {
   "cell_type": "code",
   "execution_count": null,
   "metadata": {},
   "outputs": [],
   "source": []
  }
 ],
 "metadata": {
  "kernelspec": {
   "display_name": "Python 3",
   "language": "python",
   "name": "python3"
  },
  "language_info": {
   "codemirror_mode": {
    "name": "ipython",
    "version": 3
   },
   "file_extension": ".py",
   "mimetype": "text/x-python",
   "name": "python",
   "nbconvert_exporter": "python",
   "pygments_lexer": "ipython3",
   "version": "3.7.6"
  }
 },
 "nbformat": 4,
 "nbformat_minor": 4
}
