{
 "cells": [
  {
   "cell_type": "code",
   "execution_count": 1,
   "metadata": {},
   "outputs": [],
   "source": [
    "import numpy as np\n",
    "import pandas as pd\n",
    "import cv2\n",
    "import ast\n",
    "from skimage.feature import hog\n",
    "from sklearn.decomposition import PCA\n",
    "import ipyvolume as ipv\n",
    "from sklearn import metrics\n",
    "from sklearn.model_selection import train_test_split\n",
    "from sklearn import svm"
   ]
  },
  {
   "cell_type": "code",
   "execution_count": 2,
   "metadata": {},
   "outputs": [],
   "source": [
    "def train_test_data(x_variable,y_variable,testsize,randomstate):\n",
    "    x_train, x_test, y_train, y_test = train_test_split(x_variable,y_variable,test_size = testsize, random_state = randomstate)\n",
    "    return x_train,x_test,y_train,y_test"
   ]
  },
  {
   "cell_type": "code",
   "execution_count": 3,
   "metadata": {},
   "outputs": [],
   "source": [
    "def svm_training(Kernel,Degree,x_train,x_test,y_train,y_test):\n",
    "    classifier = svm.SVC(kernel = Kernel,degree = Degree)\n",
    "    classifier.fit(x_train,y_train)\n",
    "    y_pred = classifier.predict(x_test)\n",
    "    accuracy = metrics.accuracy_score(y_test, y_pred)\n",
    "    return classifier,accuracy"
   ]
  },
  {
   "cell_type": "markdown",
   "metadata": {},
   "source": [
    "# Training vehicle hog features via SVM using linear kernel......"
   ]
  },
  {
   "cell_type": "code",
   "execution_count": 4,
   "metadata": {},
   "outputs": [],
   "source": [
    "vehicle_data = pd.read_csv('single_lane_Vehicle_hog.csv')"
   ]
  },
  {
   "cell_type": "code",
   "execution_count": 5,
   "metadata": {},
   "outputs": [
    {
     "data": {
      "text/html": [
       "<div>\n",
       "<style scoped>\n",
       "    .dataframe tbody tr th:only-of-type {\n",
       "        vertical-align: middle;\n",
       "    }\n",
       "\n",
       "    .dataframe tbody tr th {\n",
       "        vertical-align: top;\n",
       "    }\n",
       "\n",
       "    .dataframe thead th {\n",
       "        text-align: right;\n",
       "    }\n",
       "</style>\n",
       "<table border=\"1\" class=\"dataframe\">\n",
       "  <thead>\n",
       "    <tr style=\"text-align: right;\">\n",
       "      <th></th>\n",
       "      <th>Unnamed: 0</th>\n",
       "      <th>0</th>\n",
       "      <th>1</th>\n",
       "      <th>2</th>\n",
       "      <th>3</th>\n",
       "      <th>4</th>\n",
       "      <th>5</th>\n",
       "      <th>6</th>\n",
       "      <th>7</th>\n",
       "      <th>8</th>\n",
       "      <th>...</th>\n",
       "      <th>3771</th>\n",
       "      <th>3772</th>\n",
       "      <th>3773</th>\n",
       "      <th>3774</th>\n",
       "      <th>3775</th>\n",
       "      <th>3776</th>\n",
       "      <th>3777</th>\n",
       "      <th>3778</th>\n",
       "      <th>3779</th>\n",
       "      <th>MotorVehicle</th>\n",
       "    </tr>\n",
       "  </thead>\n",
       "  <tbody>\n",
       "    <tr>\n",
       "      <th>0</th>\n",
       "      <td>0</td>\n",
       "      <td>0.369926</td>\n",
       "      <td>0.216900</td>\n",
       "      <td>0.095444</td>\n",
       "      <td>0.011491</td>\n",
       "      <td>0.038315</td>\n",
       "      <td>0.011491</td>\n",
       "      <td>0.012041</td>\n",
       "      <td>0.004760</td>\n",
       "      <td>0.026007</td>\n",
       "      <td>...</td>\n",
       "      <td>0.155598</td>\n",
       "      <td>0.028994</td>\n",
       "      <td>0.110025</td>\n",
       "      <td>0.028994</td>\n",
       "      <td>0.350096</td>\n",
       "      <td>0.127986</td>\n",
       "      <td>0.055012</td>\n",
       "      <td>0.000000</td>\n",
       "      <td>0.000000</td>\n",
       "      <td>1</td>\n",
       "    </tr>\n",
       "    <tr>\n",
       "      <th>1</th>\n",
       "      <td>1</td>\n",
       "      <td>0.124693</td>\n",
       "      <td>0.060799</td>\n",
       "      <td>0.098858</td>\n",
       "      <td>0.000000</td>\n",
       "      <td>0.045231</td>\n",
       "      <td>0.000000</td>\n",
       "      <td>0.000000</td>\n",
       "      <td>0.009195</td>\n",
       "      <td>0.000000</td>\n",
       "      <td>...</td>\n",
       "      <td>0.300639</td>\n",
       "      <td>0.265382</td>\n",
       "      <td>0.130717</td>\n",
       "      <td>0.195196</td>\n",
       "      <td>0.206488</td>\n",
       "      <td>0.154912</td>\n",
       "      <td>0.157947</td>\n",
       "      <td>0.300639</td>\n",
       "      <td>0.031436</td>\n",
       "      <td>1</td>\n",
       "    </tr>\n",
       "    <tr>\n",
       "      <th>2</th>\n",
       "      <td>2</td>\n",
       "      <td>0.353609</td>\n",
       "      <td>0.101121</td>\n",
       "      <td>0.063955</td>\n",
       "      <td>0.025280</td>\n",
       "      <td>0.101751</td>\n",
       "      <td>0.075841</td>\n",
       "      <td>0.047966</td>\n",
       "      <td>0.091324</td>\n",
       "      <td>0.139843</td>\n",
       "      <td>...</td>\n",
       "      <td>0.137770</td>\n",
       "      <td>0.016404</td>\n",
       "      <td>0.000000</td>\n",
       "      <td>0.000000</td>\n",
       "      <td>0.017260</td>\n",
       "      <td>0.014965</td>\n",
       "      <td>0.012227</td>\n",
       "      <td>0.076137</td>\n",
       "      <td>0.171552</td>\n",
       "      <td>1</td>\n",
       "    </tr>\n",
       "    <tr>\n",
       "      <th>3</th>\n",
       "      <td>3</td>\n",
       "      <td>0.331317</td>\n",
       "      <td>0.279131</td>\n",
       "      <td>0.005429</td>\n",
       "      <td>0.000000</td>\n",
       "      <td>0.024953</td>\n",
       "      <td>0.000000</td>\n",
       "      <td>0.002715</td>\n",
       "      <td>0.002146</td>\n",
       "      <td>0.000000</td>\n",
       "      <td>...</td>\n",
       "      <td>0.241216</td>\n",
       "      <td>0.008661</td>\n",
       "      <td>0.027660</td>\n",
       "      <td>0.006124</td>\n",
       "      <td>0.007747</td>\n",
       "      <td>0.010455</td>\n",
       "      <td>0.008217</td>\n",
       "      <td>0.019090</td>\n",
       "      <td>0.041913</td>\n",
       "      <td>1</td>\n",
       "    </tr>\n",
       "    <tr>\n",
       "      <th>4</th>\n",
       "      <td>4</td>\n",
       "      <td>0.188796</td>\n",
       "      <td>0.000000</td>\n",
       "      <td>0.008190</td>\n",
       "      <td>0.003237</td>\n",
       "      <td>0.005791</td>\n",
       "      <td>0.000000</td>\n",
       "      <td>0.002048</td>\n",
       "      <td>0.006475</td>\n",
       "      <td>0.000000</td>\n",
       "      <td>...</td>\n",
       "      <td>0.036492</td>\n",
       "      <td>0.023314</td>\n",
       "      <td>0.066352</td>\n",
       "      <td>0.169034</td>\n",
       "      <td>0.245017</td>\n",
       "      <td>0.000000</td>\n",
       "      <td>0.022117</td>\n",
       "      <td>0.000000</td>\n",
       "      <td>0.000000</td>\n",
       "      <td>1</td>\n",
       "    </tr>\n",
       "  </tbody>\n",
       "</table>\n",
       "<p>5 rows × 3782 columns</p>\n",
       "</div>"
      ],
      "text/plain": [
       "   Unnamed: 0         0         1         2         3         4         5  \\\n",
       "0           0  0.369926  0.216900  0.095444  0.011491  0.038315  0.011491   \n",
       "1           1  0.124693  0.060799  0.098858  0.000000  0.045231  0.000000   \n",
       "2           2  0.353609  0.101121  0.063955  0.025280  0.101751  0.075841   \n",
       "3           3  0.331317  0.279131  0.005429  0.000000  0.024953  0.000000   \n",
       "4           4  0.188796  0.000000  0.008190  0.003237  0.005791  0.000000   \n",
       "\n",
       "          6         7         8  ...      3771      3772      3773      3774  \\\n",
       "0  0.012041  0.004760  0.026007  ...  0.155598  0.028994  0.110025  0.028994   \n",
       "1  0.000000  0.009195  0.000000  ...  0.300639  0.265382  0.130717  0.195196   \n",
       "2  0.047966  0.091324  0.139843  ...  0.137770  0.016404  0.000000  0.000000   \n",
       "3  0.002715  0.002146  0.000000  ...  0.241216  0.008661  0.027660  0.006124   \n",
       "4  0.002048  0.006475  0.000000  ...  0.036492  0.023314  0.066352  0.169034   \n",
       "\n",
       "       3775      3776      3777      3778      3779  MotorVehicle  \n",
       "0  0.350096  0.127986  0.055012  0.000000  0.000000             1  \n",
       "1  0.206488  0.154912  0.157947  0.300639  0.031436             1  \n",
       "2  0.017260  0.014965  0.012227  0.076137  0.171552             1  \n",
       "3  0.007747  0.010455  0.008217  0.019090  0.041913             1  \n",
       "4  0.245017  0.000000  0.022117  0.000000  0.000000             1  \n",
       "\n",
       "[5 rows x 3782 columns]"
      ]
     },
     "execution_count": 5,
     "metadata": {},
     "output_type": "execute_result"
    }
   ],
   "source": [
    "vehicle_data.head()"
   ]
  },
  {
   "cell_type": "code",
   "execution_count": 6,
   "metadata": {},
   "outputs": [],
   "source": [
    "vehicle_data = np.array(vehicle_data)"
   ]
  },
  {
   "cell_type": "code",
   "execution_count": 7,
   "metadata": {},
   "outputs": [],
   "source": [
    "vehicle_hog_features = vehicle_data[:,1:-1]"
   ]
  },
  {
   "cell_type": "code",
   "execution_count": 8,
   "metadata": {},
   "outputs": [],
   "source": [
    "vehicle_variables = vehicle_data[:,3781]"
   ]
  },
  {
   "cell_type": "code",
   "execution_count": 9,
   "metadata": {},
   "outputs": [],
   "source": [
    "vehicle_x_train,vehicle_x_test,vehicle_y_train,vehicle_y_test = train_test_data(vehicle_hog_features,vehicle_variables,0.3,109)"
   ]
  },
  {
   "cell_type": "code",
   "execution_count": 10,
   "metadata": {},
   "outputs": [],
   "source": [
    "vehicle_classifier,vehicle_accuracy = svm_training('linear',3,vehicle_x_train,vehicle_x_test,vehicle_y_train,vehicle_y_test)"
   ]
  },
  {
   "cell_type": "code",
   "execution_count": 11,
   "metadata": {},
   "outputs": [
    {
     "data": {
      "text/plain": [
       "0.9902439024390244"
      ]
     },
     "execution_count": 11,
     "metadata": {},
     "output_type": "execute_result"
    }
   ],
   "source": [
    "vehicle_accuracy"
   ]
  },
  {
   "cell_type": "markdown",
   "metadata": {},
   "source": [
    "# Training helmet hog features via SVM using polynomial kernel......"
   ]
  },
  {
   "cell_type": "code",
   "execution_count": 12,
   "metadata": {},
   "outputs": [],
   "source": [
    "helmet_data = pd.read_csv('single_lane_helmet_hog_features.csv')"
   ]
  },
  {
   "cell_type": "code",
   "execution_count": 13,
   "metadata": {},
   "outputs": [
    {
     "data": {
      "text/html": [
       "<div>\n",
       "<style scoped>\n",
       "    .dataframe tbody tr th:only-of-type {\n",
       "        vertical-align: middle;\n",
       "    }\n",
       "\n",
       "    .dataframe tbody tr th {\n",
       "        vertical-align: top;\n",
       "    }\n",
       "\n",
       "    .dataframe thead th {\n",
       "        text-align: right;\n",
       "    }\n",
       "</style>\n",
       "<table border=\"1\" class=\"dataframe\">\n",
       "  <thead>\n",
       "    <tr style=\"text-align: right;\">\n",
       "      <th></th>\n",
       "      <th>Unnamed: 0</th>\n",
       "      <th>0</th>\n",
       "      <th>1</th>\n",
       "      <th>2</th>\n",
       "      <th>3</th>\n",
       "      <th>4</th>\n",
       "      <th>5</th>\n",
       "      <th>6</th>\n",
       "      <th>7</th>\n",
       "      <th>8</th>\n",
       "      <th>...</th>\n",
       "      <th>3771</th>\n",
       "      <th>3772</th>\n",
       "      <th>3773</th>\n",
       "      <th>3774</th>\n",
       "      <th>3775</th>\n",
       "      <th>3776</th>\n",
       "      <th>3777</th>\n",
       "      <th>3778</th>\n",
       "      <th>3779</th>\n",
       "      <th>Helmet</th>\n",
       "    </tr>\n",
       "  </thead>\n",
       "  <tbody>\n",
       "    <tr>\n",
       "      <th>0</th>\n",
       "      <td>0</td>\n",
       "      <td>0.471778</td>\n",
       "      <td>0.027244</td>\n",
       "      <td>0.000000</td>\n",
       "      <td>0.0</td>\n",
       "      <td>0.012184</td>\n",
       "      <td>0.0</td>\n",
       "      <td>0.034461</td>\n",
       "      <td>0.054488</td>\n",
       "      <td>0.000000</td>\n",
       "      <td>...</td>\n",
       "      <td>0.489373</td>\n",
       "      <td>0.053429</td>\n",
       "      <td>0.011264</td>\n",
       "      <td>0.0</td>\n",
       "      <td>0.000000</td>\n",
       "      <td>0.0</td>\n",
       "      <td>0.022527</td>\n",
       "      <td>0.000000</td>\n",
       "      <td>0.000000</td>\n",
       "      <td>0</td>\n",
       "    </tr>\n",
       "    <tr>\n",
       "      <th>1</th>\n",
       "      <td>1</td>\n",
       "      <td>0.478791</td>\n",
       "      <td>0.035578</td>\n",
       "      <td>0.045003</td>\n",
       "      <td>0.0</td>\n",
       "      <td>0.000000</td>\n",
       "      <td>0.0</td>\n",
       "      <td>0.045003</td>\n",
       "      <td>0.035578</td>\n",
       "      <td>0.000000</td>\n",
       "      <td>...</td>\n",
       "      <td>0.480235</td>\n",
       "      <td>0.000000</td>\n",
       "      <td>0.000000</td>\n",
       "      <td>0.0</td>\n",
       "      <td>0.000000</td>\n",
       "      <td>0.0</td>\n",
       "      <td>0.000000</td>\n",
       "      <td>0.000000</td>\n",
       "      <td>0.000000</td>\n",
       "      <td>1</td>\n",
       "    </tr>\n",
       "    <tr>\n",
       "      <th>2</th>\n",
       "      <td>2</td>\n",
       "      <td>0.494574</td>\n",
       "      <td>0.019872</td>\n",
       "      <td>0.000000</td>\n",
       "      <td>0.0</td>\n",
       "      <td>0.000000</td>\n",
       "      <td>0.0</td>\n",
       "      <td>0.000000</td>\n",
       "      <td>0.000000</td>\n",
       "      <td>0.076062</td>\n",
       "      <td>...</td>\n",
       "      <td>0.465382</td>\n",
       "      <td>0.031586</td>\n",
       "      <td>0.000000</td>\n",
       "      <td>0.0</td>\n",
       "      <td>0.000000</td>\n",
       "      <td>0.0</td>\n",
       "      <td>0.000000</td>\n",
       "      <td>0.000000</td>\n",
       "      <td>0.189318</td>\n",
       "      <td>0</td>\n",
       "    </tr>\n",
       "    <tr>\n",
       "      <th>3</th>\n",
       "      <td>3</td>\n",
       "      <td>0.512448</td>\n",
       "      <td>0.000000</td>\n",
       "      <td>0.012371</td>\n",
       "      <td>0.0</td>\n",
       "      <td>0.021869</td>\n",
       "      <td>0.0</td>\n",
       "      <td>0.000000</td>\n",
       "      <td>0.029341</td>\n",
       "      <td>0.018034</td>\n",
       "      <td>...</td>\n",
       "      <td>0.438008</td>\n",
       "      <td>0.033322</td>\n",
       "      <td>0.000000</td>\n",
       "      <td>0.0</td>\n",
       "      <td>0.005405</td>\n",
       "      <td>0.0</td>\n",
       "      <td>0.000000</td>\n",
       "      <td>0.012085</td>\n",
       "      <td>0.195399</td>\n",
       "      <td>0</td>\n",
       "    </tr>\n",
       "    <tr>\n",
       "      <th>4</th>\n",
       "      <td>4</td>\n",
       "      <td>0.352850</td>\n",
       "      <td>0.000000</td>\n",
       "      <td>0.110349</td>\n",
       "      <td>0.0</td>\n",
       "      <td>0.156058</td>\n",
       "      <td>0.0</td>\n",
       "      <td>0.110349</td>\n",
       "      <td>0.000000</td>\n",
       "      <td>0.000000</td>\n",
       "      <td>...</td>\n",
       "      <td>0.411617</td>\n",
       "      <td>0.000000</td>\n",
       "      <td>0.185272</td>\n",
       "      <td>0.0</td>\n",
       "      <td>0.037431</td>\n",
       "      <td>0.0</td>\n",
       "      <td>0.052935</td>\n",
       "      <td>0.000000</td>\n",
       "      <td>0.000000</td>\n",
       "      <td>1</td>\n",
       "    </tr>\n",
       "  </tbody>\n",
       "</table>\n",
       "<p>5 rows × 3782 columns</p>\n",
       "</div>"
      ],
      "text/plain": [
       "   Unnamed: 0         0         1         2    3         4    5         6  \\\n",
       "0           0  0.471778  0.027244  0.000000  0.0  0.012184  0.0  0.034461   \n",
       "1           1  0.478791  0.035578  0.045003  0.0  0.000000  0.0  0.045003   \n",
       "2           2  0.494574  0.019872  0.000000  0.0  0.000000  0.0  0.000000   \n",
       "3           3  0.512448  0.000000  0.012371  0.0  0.021869  0.0  0.000000   \n",
       "4           4  0.352850  0.000000  0.110349  0.0  0.156058  0.0  0.110349   \n",
       "\n",
       "          7         8  ...      3771      3772      3773  3774      3775  \\\n",
       "0  0.054488  0.000000  ...  0.489373  0.053429  0.011264   0.0  0.000000   \n",
       "1  0.035578  0.000000  ...  0.480235  0.000000  0.000000   0.0  0.000000   \n",
       "2  0.000000  0.076062  ...  0.465382  0.031586  0.000000   0.0  0.000000   \n",
       "3  0.029341  0.018034  ...  0.438008  0.033322  0.000000   0.0  0.005405   \n",
       "4  0.000000  0.000000  ...  0.411617  0.000000  0.185272   0.0  0.037431   \n",
       "\n",
       "   3776      3777      3778      3779  Helmet  \n",
       "0   0.0  0.022527  0.000000  0.000000       0  \n",
       "1   0.0  0.000000  0.000000  0.000000       1  \n",
       "2   0.0  0.000000  0.000000  0.189318       0  \n",
       "3   0.0  0.000000  0.012085  0.195399       0  \n",
       "4   0.0  0.052935  0.000000  0.000000       1  \n",
       "\n",
       "[5 rows x 3782 columns]"
      ]
     },
     "execution_count": 13,
     "metadata": {},
     "output_type": "execute_result"
    }
   ],
   "source": [
    "helmet_data.head()"
   ]
  },
  {
   "cell_type": "code",
   "execution_count": 14,
   "metadata": {},
   "outputs": [],
   "source": [
    "helmet_data = np.array(helmet_data)"
   ]
  },
  {
   "cell_type": "code",
   "execution_count": 15,
   "metadata": {},
   "outputs": [],
   "source": [
    "helmet_hog_features = helmet_data[:,1:-1]"
   ]
  },
  {
   "cell_type": "code",
   "execution_count": 16,
   "metadata": {},
   "outputs": [],
   "source": [
    "helmet_variables = helmet_data[:,3781]"
   ]
  },
  {
   "cell_type": "code",
   "execution_count": 17,
   "metadata": {},
   "outputs": [],
   "source": [
    "helmet_x_train,helmet_x_test,helmet_y_train,helmet_y_test = train_test_data(helmet_hog_features,helmet_variables,0.3,109)"
   ]
  },
  {
   "cell_type": "code",
   "execution_count": 18,
   "metadata": {},
   "outputs": [],
   "source": [
    "helmet_classifier,helmet_accuracy = svm_training('poly',3,helmet_x_train,helmet_x_test,helmet_y_train,helmet_y_test)"
   ]
  },
  {
   "cell_type": "code",
   "execution_count": 19,
   "metadata": {},
   "outputs": [
    {
     "data": {
      "text/plain": [
       "0.6821192052980133"
      ]
     },
     "execution_count": 19,
     "metadata": {},
     "output_type": "execute_result"
    }
   ],
   "source": [
    "helmet_accuracy"
   ]
  },
  {
   "cell_type": "markdown",
   "metadata": {},
   "source": [
    "# Using trained classifiers to predict the realtime output..........."
   ]
  },
  {
   "cell_type": "code",
   "execution_count": 20,
   "metadata": {},
   "outputs": [],
   "source": [
    "def MotorVehicle_detection(vehicle,classifier):\n",
    "    resized = cv2.resize(vehicle,(64,128),interpolation = cv2.INTER_AREA)\n",
    "    f,i = hog(resized, orientations=9, pixels_per_cell=(8,8),cells_per_block=(2, 2),visualize = True)\n",
    "    result = classifier.predict(f.reshape(1,-1))\n",
    "    return result"
   ]
  },
  {
   "cell_type": "code",
   "execution_count": 21,
   "metadata": {},
   "outputs": [],
   "source": [
    "def Helmet_detection(helmet_portion,classifier): \n",
    "    filter_img = cv2.GaussianBlur(helmet_portion,(5,5),100)\n",
    "    resized = cv2.resize(filter_img,(64,128),interpolation = cv2.INTER_AREA)\n",
    "    hf,_ = hog(resized, orientations=9, pixels_per_cell=(8,8),cells_per_block=(2, 2),visualize = True)\n",
    "    result = classifier.predict([hf])\n",
    "    return result"
   ]
  },
  {
   "cell_type": "code",
   "execution_count": 30,
   "metadata": {},
   "outputs": [],
   "source": [
    "cap = cv2.VideoCapture('T2.mp4')\n",
    "fgbg = cv2.createBackgroundSubtractorMOG2()\n",
    "while(1):\n",
    "    _,frame = cap.read()\n",
    "    image = frame[0:frame.shape[0],0:int(frame.shape[1]-(frame.shape[1]*0.45))]\n",
    "    #cv2.imshow('img',image)\n",
    "    filter_img = cv2.GaussianBlur(image,(5,5),100)\n",
    "    fgmask = fgbg.apply(filter_img)\n",
    "    #_,thresh = cv2.threshold(fgmask,127,255,cv2.THRESH_BINARY)\n",
    "    contours, hierarchy = cv2.findContours(fgmask, cv2.RETR_TREE, cv2.CHAIN_APPROX_NONE)\n",
    "    for c in contours:\n",
    "        area = cv2.contourArea(c)\n",
    "        if 5000<area<10000:\n",
    "            x,y,w,h = cv2.boundingRect(c)\n",
    "            vehicle = image[(y+int(h*0.25)):(y+h),x:(x+w)]\n",
    "            helmet_portion = vehicle[0:(0+int(h*0.25)),0:(0+w)]\n",
    "            vehicle_class = MotorVehicle_detection(vehicle,vehicle_classifier)\n",
    "            helmet_class = Helmet_detection(helmet_portion,helmet_classifier)\n",
    "            if vehicle_class == 1:\n",
    "                if helmet_class == 1:\n",
    "                    color = (0,255,0)\n",
    "                    text = 'bike with helmet'\n",
    "                else:\n",
    "                    color = (255,0,0)\n",
    "                    text = 'bike without helmet'\n",
    "            else:\n",
    "                color = (255,255,255)\n",
    "                text = 'not bike'\n",
    "            cv2.putText(frame,text,(x,y), cv2.FONT_HERSHEY_SIMPLEX , 1,(0,0,255),1,cv2.LINE_AA)\n",
    "            img = cv2.rectangle(frame,(x,y),(x+w,y+h),(0,255,0),2)\n",
    "            cv2.imshow('image',img)\n",
    "    k = cv2.waitKey(5)\n",
    "    if k == ord('s'):\n",
    "        break\n",
    "cap.release()\n",
    "cv2.destroyAllWindows()"
   ]
  },
  {
   "cell_type": "code",
   "execution_count": null,
   "metadata": {},
   "outputs": [],
   "source": []
  }
 ],
 "metadata": {
  "kernelspec": {
   "display_name": "Python 3",
   "language": "python",
   "name": "python3"
  },
  "language_info": {
   "codemirror_mode": {
    "name": "ipython",
    "version": 3
   },
   "file_extension": ".py",
   "mimetype": "text/x-python",
   "name": "python",
   "nbconvert_exporter": "python",
   "pygments_lexer": "ipython3",
   "version": "3.7.6"
  }
 },
 "nbformat": 4,
 "nbformat_minor": 4
}
